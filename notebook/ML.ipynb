{
 "cells": [
  {
   "cell_type": "code",
   "execution_count": 63,
   "id": "sharing-lunch",
   "metadata": {},
   "outputs": [],
   "source": [
    "# importing libraries\n",
    "import pandas as pd\n",
    "import numpy as np\n",
    "import scipy.stats as scs\n",
    "from sklearn.metrics import mean_squared_error,mean_absolute_error, r2_score\n",
    "from sklearn import preprocessing\n",
    "from sklearn.model_selection import train_test_split\n",
    "from sklearn.linear_model import ElasticNet\n",
    "from sklearn.tree import DecisionTreeClassifier\n",
    "from sklearn.linear_model import LogisticRegression\n",
    "from sklearn.model_selection import KFold\n",
    "from six import StringIO\n",
    "from sklearn.tree import export_graphviz\n",
    "from sklearn import metrics\n",
    "from IPython.display import Image\n",
    "from urllib.parse import urlparse\n",
    "import mlflow\n",
    "import mlflow\n",
    "import sys\n",
    "import os\n",
    "sys.path.append(os.path.abspath(os.path.join('..')))\n",
    "import seaborn as sns\n",
    "import matplotlib.pyplot as plt\n",
    "%matplotlib inline\n",
    "import warnings\n",
    "import scipy\n",
    "import scipy.stats as stat\n",
    "import pickle\n",
    "import xgboost as xgb\n",
    "warnings.filterwarnings('ignore')"
   ]
  },
  {
   "cell_type": "code",
   "execution_count": 2,
   "id": "alive-maria",
   "metadata": {},
   "outputs": [],
   "source": [
    "data=pd.read_csv('../data/AdSmartABdata.csv')"
   ]
  },
  {
   "cell_type": "code",
   "execution_count": 3,
   "id": "material-wildlife",
   "metadata": {},
   "outputs": [
    {
     "data": {
      "text/html": [
       "<div>\n",
       "<style scoped>\n",
       "    .dataframe tbody tr th:only-of-type {\n",
       "        vertical-align: middle;\n",
       "    }\n",
       "\n",
       "    .dataframe tbody tr th {\n",
       "        vertical-align: top;\n",
       "    }\n",
       "\n",
       "    .dataframe thead th {\n",
       "        text-align: right;\n",
       "    }\n",
       "</style>\n",
       "<table border=\"1\" class=\"dataframe\">\n",
       "  <thead>\n",
       "    <tr style=\"text-align: right;\">\n",
       "      <th></th>\n",
       "      <th>auction_id</th>\n",
       "      <th>experiment</th>\n",
       "      <th>date</th>\n",
       "      <th>hour</th>\n",
       "      <th>device_make</th>\n",
       "      <th>platform_os</th>\n",
       "      <th>browser</th>\n",
       "      <th>yes</th>\n",
       "      <th>no</th>\n",
       "    </tr>\n",
       "  </thead>\n",
       "  <tbody>\n",
       "    <tr>\n",
       "      <th>0</th>\n",
       "      <td>0008ef63-77a7-448b-bd1e-075f42c55e39</td>\n",
       "      <td>exposed</td>\n",
       "      <td>2020-07-10</td>\n",
       "      <td>8</td>\n",
       "      <td>Generic Smartphone</td>\n",
       "      <td>6</td>\n",
       "      <td>Chrome Mobile</td>\n",
       "      <td>0</td>\n",
       "      <td>0</td>\n",
       "    </tr>\n",
       "    <tr>\n",
       "      <th>1</th>\n",
       "      <td>000eabc5-17ce-4137-8efe-44734d914446</td>\n",
       "      <td>exposed</td>\n",
       "      <td>2020-07-07</td>\n",
       "      <td>10</td>\n",
       "      <td>Generic Smartphone</td>\n",
       "      <td>6</td>\n",
       "      <td>Chrome Mobile</td>\n",
       "      <td>0</td>\n",
       "      <td>0</td>\n",
       "    </tr>\n",
       "    <tr>\n",
       "      <th>2</th>\n",
       "      <td>0016d14a-ae18-4a02-a204-6ba53b52f2ed</td>\n",
       "      <td>exposed</td>\n",
       "      <td>2020-07-05</td>\n",
       "      <td>2</td>\n",
       "      <td>E5823</td>\n",
       "      <td>6</td>\n",
       "      <td>Chrome Mobile WebView</td>\n",
       "      <td>0</td>\n",
       "      <td>1</td>\n",
       "    </tr>\n",
       "    <tr>\n",
       "      <th>3</th>\n",
       "      <td>00187412-2932-4542-a8ef-3633901c98d9</td>\n",
       "      <td>control</td>\n",
       "      <td>2020-07-03</td>\n",
       "      <td>15</td>\n",
       "      <td>Samsung SM-A705FN</td>\n",
       "      <td>6</td>\n",
       "      <td>Facebook</td>\n",
       "      <td>0</td>\n",
       "      <td>0</td>\n",
       "    </tr>\n",
       "    <tr>\n",
       "      <th>4</th>\n",
       "      <td>001a7785-d3fe-4e11-a344-c8735acacc2c</td>\n",
       "      <td>control</td>\n",
       "      <td>2020-07-03</td>\n",
       "      <td>15</td>\n",
       "      <td>Generic Smartphone</td>\n",
       "      <td>6</td>\n",
       "      <td>Chrome Mobile</td>\n",
       "      <td>0</td>\n",
       "      <td>0</td>\n",
       "    </tr>\n",
       "  </tbody>\n",
       "</table>\n",
       "</div>"
      ],
      "text/plain": [
       "                             auction_id experiment        date  hour  \\\n",
       "0  0008ef63-77a7-448b-bd1e-075f42c55e39    exposed  2020-07-10     8   \n",
       "1  000eabc5-17ce-4137-8efe-44734d914446    exposed  2020-07-07    10   \n",
       "2  0016d14a-ae18-4a02-a204-6ba53b52f2ed    exposed  2020-07-05     2   \n",
       "3  00187412-2932-4542-a8ef-3633901c98d9    control  2020-07-03    15   \n",
       "4  001a7785-d3fe-4e11-a344-c8735acacc2c    control  2020-07-03    15   \n",
       "\n",
       "          device_make  platform_os                browser  yes  no  \n",
       "0  Generic Smartphone            6          Chrome Mobile    0   0  \n",
       "1  Generic Smartphone            6          Chrome Mobile    0   0  \n",
       "2               E5823            6  Chrome Mobile WebView    0   1  \n",
       "3   Samsung SM-A705FN            6               Facebook    0   0  \n",
       "4  Generic Smartphone            6          Chrome Mobile    0   0  "
      ]
     },
     "execution_count": 3,
     "metadata": {},
     "output_type": "execute_result"
    }
   ],
   "source": [
    "data.head()"
   ]
  },
  {
   "cell_type": "markdown",
   "id": "native-playing",
   "metadata": {},
   "source": [
    "## Feature engineering"
   ]
  },
  {
   "cell_type": "code",
   "execution_count": 4,
   "id": "relevant-modeling",
   "metadata": {},
   "outputs": [
    {
     "name": "stdout",
     "output_type": "stream",
     "text": [
      "auction_id : 8077 labels\n",
      "experiment : 2 labels\n",
      "date : 8 labels\n",
      "hour : 24 labels\n",
      "device_make : 270 labels\n",
      "platform_os : 3 labels\n",
      "browser : 15 labels\n",
      "yes : 2 labels\n",
      "no : 2 labels\n"
     ]
    }
   ],
   "source": [
    "for col in data.columns:\n",
    "  print(col,':', data[col].nunique(), 'labels')"
   ]
  },
  {
   "cell_type": "code",
   "execution_count": 5,
   "id": "tough-receiver",
   "metadata": {},
   "outputs": [],
   "source": [
    "#Drop auction_id since it is unique to every data and no prediction value\n",
    "data.drop('auction_id', axis=1, inplace=True)"
   ]
  },
  {
   "cell_type": "code",
   "execution_count": 6,
   "id": "innovative-spider",
   "metadata": {},
   "outputs": [
    {
     "data": {
      "text/html": [
       "<div>\n",
       "<style scoped>\n",
       "    .dataframe tbody tr th:only-of-type {\n",
       "        vertical-align: middle;\n",
       "    }\n",
       "\n",
       "    .dataframe tbody tr th {\n",
       "        vertical-align: top;\n",
       "    }\n",
       "\n",
       "    .dataframe thead th {\n",
       "        text-align: right;\n",
       "    }\n",
       "</style>\n",
       "<table border=\"1\" class=\"dataframe\">\n",
       "  <thead>\n",
       "    <tr style=\"text-align: right;\">\n",
       "      <th></th>\n",
       "      <th>experiment</th>\n",
       "      <th>date</th>\n",
       "      <th>hour</th>\n",
       "      <th>device_make</th>\n",
       "      <th>platform_os</th>\n",
       "      <th>browser</th>\n",
       "      <th>converted</th>\n",
       "    </tr>\n",
       "  </thead>\n",
       "  <tbody>\n",
       "    <tr>\n",
       "      <th>2</th>\n",
       "      <td>exposed</td>\n",
       "      <td>2020-07-05</td>\n",
       "      <td>2</td>\n",
       "      <td>E5823</td>\n",
       "      <td>6</td>\n",
       "      <td>Chrome Mobile WebView</td>\n",
       "      <td>0</td>\n",
       "    </tr>\n",
       "    <tr>\n",
       "      <th>16</th>\n",
       "      <td>exposed</td>\n",
       "      <td>2020-07-04</td>\n",
       "      <td>16</td>\n",
       "      <td>Generic Smartphone</td>\n",
       "      <td>6</td>\n",
       "      <td>Chrome Mobile</td>\n",
       "      <td>1</td>\n",
       "    </tr>\n",
       "    <tr>\n",
       "      <th>20</th>\n",
       "      <td>exposed</td>\n",
       "      <td>2020-07-06</td>\n",
       "      <td>8</td>\n",
       "      <td>Generic Smartphone</td>\n",
       "      <td>6</td>\n",
       "      <td>Chrome Mobile</td>\n",
       "      <td>0</td>\n",
       "    </tr>\n",
       "    <tr>\n",
       "      <th>23</th>\n",
       "      <td>control</td>\n",
       "      <td>2020-07-08</td>\n",
       "      <td>4</td>\n",
       "      <td>Samsung SM-A202F</td>\n",
       "      <td>6</td>\n",
       "      <td>Facebook</td>\n",
       "      <td>1</td>\n",
       "    </tr>\n",
       "    <tr>\n",
       "      <th>27</th>\n",
       "      <td>control</td>\n",
       "      <td>2020-07-03</td>\n",
       "      <td>15</td>\n",
       "      <td>Generic Smartphone</td>\n",
       "      <td>6</td>\n",
       "      <td>Chrome Mobile</td>\n",
       "      <td>0</td>\n",
       "    </tr>\n",
       "  </tbody>\n",
       "</table>\n",
       "</div>"
      ],
      "text/plain": [
       "   experiment        date  hour         device_make  platform_os  \\\n",
       "2     exposed  2020-07-05     2               E5823            6   \n",
       "16    exposed  2020-07-04    16  Generic Smartphone            6   \n",
       "20    exposed  2020-07-06     8  Generic Smartphone            6   \n",
       "23    control  2020-07-08     4    Samsung SM-A202F            6   \n",
       "27    control  2020-07-03    15  Generic Smartphone            6   \n",
       "\n",
       "                  browser  converted  \n",
       "2   Chrome Mobile WebView          0  \n",
       "16          Chrome Mobile          1  \n",
       "20          Chrome Mobile          0  \n",
       "23               Facebook          1  \n",
       "27          Chrome Mobile          0  "
      ]
     },
     "execution_count": 6,
     "metadata": {},
     "output_type": "execute_result"
    }
   ],
   "source": [
    "#Merge yes and no columns into converted(0 for no/1 for yes)\n",
    "a =pd.DataFrame(data[(data['yes']==1)]) \n",
    "\n",
    "b =pd.DataFrame(data[(data['no']==1)])\n",
    "\n",
    "b['no']=0\n",
    "df = pd.concat([a, b]).sort_index()\n",
    "df. drop(['no'], axis=1, inplace=True)\n",
    "df.rename(columns = {'yes':'converted'}, inplace = True) \n",
    "df.head()"
   ]
  },
  {
   "cell_type": "code",
   "execution_count": 7,
   "id": "sudden-battery",
   "metadata": {},
   "outputs": [
    {
     "data": {
      "text/html": [
       "<div>\n",
       "<style scoped>\n",
       "    .dataframe tbody tr th:only-of-type {\n",
       "        vertical-align: middle;\n",
       "    }\n",
       "\n",
       "    .dataframe tbody tr th {\n",
       "        vertical-align: top;\n",
       "    }\n",
       "\n",
       "    .dataframe thead th {\n",
       "        text-align: right;\n",
       "    }\n",
       "</style>\n",
       "<table border=\"1\" class=\"dataframe\">\n",
       "  <thead>\n",
       "    <tr style=\"text-align: right;\">\n",
       "      <th></th>\n",
       "      <th>experiment</th>\n",
       "      <th>date</th>\n",
       "      <th>hour</th>\n",
       "      <th>device_make</th>\n",
       "      <th>platform_os</th>\n",
       "      <th>browser</th>\n",
       "      <th>converted</th>\n",
       "    </tr>\n",
       "  </thead>\n",
       "  <tbody>\n",
       "    <tr>\n",
       "      <th>2</th>\n",
       "      <td>1</td>\n",
       "      <td>2</td>\n",
       "      <td>2</td>\n",
       "      <td>4</td>\n",
       "      <td>6</td>\n",
       "      <td>2</td>\n",
       "      <td>0</td>\n",
       "    </tr>\n",
       "    <tr>\n",
       "      <th>16</th>\n",
       "      <td>1</td>\n",
       "      <td>1</td>\n",
       "      <td>16</td>\n",
       "      <td>13</td>\n",
       "      <td>6</td>\n",
       "      <td>1</td>\n",
       "      <td>1</td>\n",
       "    </tr>\n",
       "    <tr>\n",
       "      <th>20</th>\n",
       "      <td>1</td>\n",
       "      <td>3</td>\n",
       "      <td>8</td>\n",
       "      <td>13</td>\n",
       "      <td>6</td>\n",
       "      <td>1</td>\n",
       "      <td>0</td>\n",
       "    </tr>\n",
       "    <tr>\n",
       "      <th>23</th>\n",
       "      <td>0</td>\n",
       "      <td>5</td>\n",
       "      <td>4</td>\n",
       "      <td>43</td>\n",
       "      <td>6</td>\n",
       "      <td>4</td>\n",
       "      <td>1</td>\n",
       "    </tr>\n",
       "    <tr>\n",
       "      <th>27</th>\n",
       "      <td>0</td>\n",
       "      <td>0</td>\n",
       "      <td>15</td>\n",
       "      <td>13</td>\n",
       "      <td>6</td>\n",
       "      <td>1</td>\n",
       "      <td>0</td>\n",
       "    </tr>\n",
       "  </tbody>\n",
       "</table>\n",
       "</div>"
      ],
      "text/plain": [
       "    experiment  date  hour  device_make  platform_os  browser  converted\n",
       "2            1     2     2            4            6        2          0\n",
       "16           1     1    16           13            6        1          1\n",
       "20           1     3     8           13            6        1          0\n",
       "23           0     5     4           43            6        4          1\n",
       "27           0     0    15           13            6        1          0"
      ]
     },
     "execution_count": 7,
     "metadata": {},
     "output_type": "execute_result"
    }
   ],
   "source": [
    "from sklearn import preprocessing \n",
    "# label_encoder object knows how to understand word labels. \n",
    "label_encoder = preprocessing.LabelEncoder() \n",
    "# Encode labels in all columns. \n",
    "df['experiment']= label_encoder.fit_transform(df['experiment'])\n",
    "df['date']= label_encoder.fit_transform(df['date'])\n",
    "df['device_make']= label_encoder.fit_transform(df['device_make'])\n",
    "df['browser']= label_encoder.fit_transform(df['browser'])\n",
    "df.head()"
   ]
  },
  {
   "cell_type": "code",
   "execution_count": 8,
   "id": "characteristic-dressing",
   "metadata": {},
   "outputs": [
    {
     "name": "stdout",
     "output_type": "stream",
     "text": [
      "experiment : 2 labels\n",
      "date : 8 labels\n",
      "hour : 24 labels\n",
      "device_make : 115 labels\n",
      "platform_os : 2 labels\n",
      "browser : 8 labels\n",
      "converted : 2 labels\n"
     ]
    }
   ],
   "source": [
    "#Number of unique values for aech column\n",
    "for col in df.columns:\n",
    "  print(col,':', df[col].nunique(), 'labels')"
   ]
  },
  {
   "cell_type": "code",
   "execution_count": 9,
   "id": "cross-latvia",
   "metadata": {},
   "outputs": [],
   "source": [
    "#Drop device_make\n",
    "data.drop('device_make', axis=1, inplace=True)"
   ]
  },
  {
   "cell_type": "code",
   "execution_count": 10,
   "id": "surprised-geometry",
   "metadata": {},
   "outputs": [],
   "source": [
    "#standardize the data so that exaggerated values don't affect our model(logistic regression)\n",
    "from sklearn.preprocessing import MinMaxScaler\n",
    "scaling = MinMaxScaler()\n",
    "df[:1243] = scaling.fit_transform(df[:1243])"
   ]
  },
  {
   "cell_type": "code",
   "execution_count": 11,
   "id": "processed-filename",
   "metadata": {},
   "outputs": [
    {
     "data": {
      "image/png": "[encoded data removed]",
      "text/plain": [
       "<Figure size 720x720 with 2 Axes>"
      ]
     },
     "metadata": {
      "needs_background": "light"
     },
     "output_type": "display_data"
    }
   ],
   "source": [
    "#correlation among the features\n",
    "corr = df.corr()\n",
    "top_corr_features = corr.index\n",
    "plt.figure(figsize=(10,10))\n",
    "#plot heat map\n",
    "corr_p= sns.heatmap(df[top_corr_features].corr(), annot= True)"
   ]
  },
  {
   "cell_type": "code",
   "execution_count": 12,
   "id": "nasty-importance",
   "metadata": {},
   "outputs": [],
   "source": [
    "browser_df = df[['experiment', 'hour', 'date','browser', 'converted']]\n",
    "platfrom_df =df[['experiment', 'hour', 'date', 'platform_os', 'converted']] "
   ]
  },
  {
   "cell_type": "code",
   "execution_count": 13,
   "id": "written-auditor",
   "metadata": {},
   "outputs": [],
   "source": [
    "# pd.save_csv(browser_df, \"../Data/clean_data.csv\")\n",
    "# pd.save_csv(platfrom_df, \"../Data/clean_data.csv\")"
   ]
  },
  {
   "cell_type": "code",
   "execution_count": null,
   "id": "piano-fellowship",
   "metadata": {},
   "outputs": [],
   "source": []
  },
  {
   "cell_type": "code",
   "execution_count": 14,
   "id": "optional-award",
   "metadata": {},
   "outputs": [],
   "source": [
    "def split(df):\n",
    "    train_size=0.7\n",
    "\n",
    "    train,test= train_test_split(df,train_size=0.7)\n",
    "\n",
    "\n",
    "    test_size=0.3\n",
    "\n",
    "    test, valid = train_test_split(test,test_size=0.3 )\n",
    "    return train,test,valid\n",
    "\n",
    "    "
   ]
  },
  {
   "cell_type": "code",
   "execution_count": 102,
   "id": "million-symposium",
   "metadata": {},
   "outputs": [
    {
     "data": {
      "text/html": [
       "<div>\n",
       "<style scoped>\n",
       "    .dataframe tbody tr th:only-of-type {\n",
       "        vertical-align: middle;\n",
       "    }\n",
       "\n",
       "    .dataframe tbody tr th {\n",
       "        vertical-align: top;\n",
       "    }\n",
       "\n",
       "    .dataframe thead th {\n",
       "        text-align: right;\n",
       "    }\n",
       "</style>\n",
       "<table border=\"1\" class=\"dataframe\">\n",
       "  <thead>\n",
       "    <tr style=\"text-align: right;\">\n",
       "      <th></th>\n",
       "      <th>experiment</th>\n",
       "      <th>hour</th>\n",
       "      <th>date</th>\n",
       "      <th>browser</th>\n",
       "    </tr>\n",
       "  </thead>\n",
       "  <tbody>\n",
       "    <tr>\n",
       "      <th>2361</th>\n",
       "      <td>0.0</td>\n",
       "      <td>0.652174</td>\n",
       "      <td>0.000000</td>\n",
       "      <td>0.142857</td>\n",
       "    </tr>\n",
       "    <tr>\n",
       "      <th>3433</th>\n",
       "      <td>0.0</td>\n",
       "      <td>0.652174</td>\n",
       "      <td>0.000000</td>\n",
       "      <td>1.000000</td>\n",
       "    </tr>\n",
       "    <tr>\n",
       "      <th>6779</th>\n",
       "      <td>0.0</td>\n",
       "      <td>0.391304</td>\n",
       "      <td>0.428571</td>\n",
       "      <td>0.285714</td>\n",
       "    </tr>\n",
       "    <tr>\n",
       "      <th>5074</th>\n",
       "      <td>0.0</td>\n",
       "      <td>0.304348</td>\n",
       "      <td>0.428571</td>\n",
       "      <td>0.142857</td>\n",
       "    </tr>\n",
       "    <tr>\n",
       "      <th>5858</th>\n",
       "      <td>1.0</td>\n",
       "      <td>0.652174</td>\n",
       "      <td>0.714286</td>\n",
       "      <td>0.285714</td>\n",
       "    </tr>\n",
       "    <tr>\n",
       "      <th>...</th>\n",
       "      <td>...</td>\n",
       "      <td>...</td>\n",
       "      <td>...</td>\n",
       "      <td>...</td>\n",
       "    </tr>\n",
       "    <tr>\n",
       "      <th>2732</th>\n",
       "      <td>1.0</td>\n",
       "      <td>0.000000</td>\n",
       "      <td>0.571429</td>\n",
       "      <td>0.285714</td>\n",
       "    </tr>\n",
       "    <tr>\n",
       "      <th>1977</th>\n",
       "      <td>1.0</td>\n",
       "      <td>0.347826</td>\n",
       "      <td>1.000000</td>\n",
       "      <td>0.285714</td>\n",
       "    </tr>\n",
       "    <tr>\n",
       "      <th>1378</th>\n",
       "      <td>1.0</td>\n",
       "      <td>0.086957</td>\n",
       "      <td>1.000000</td>\n",
       "      <td>0.285714</td>\n",
       "    </tr>\n",
       "    <tr>\n",
       "      <th>3374</th>\n",
       "      <td>0.0</td>\n",
       "      <td>0.173913</td>\n",
       "      <td>1.000000</td>\n",
       "      <td>0.142857</td>\n",
       "    </tr>\n",
       "    <tr>\n",
       "      <th>2139</th>\n",
       "      <td>0.0</td>\n",
       "      <td>0.347826</td>\n",
       "      <td>0.142857</td>\n",
       "      <td>0.571429</td>\n",
       "    </tr>\n",
       "  </tbody>\n",
       "</table>\n",
       "<p>261 rows × 4 columns</p>\n",
       "</div>"
      ],
      "text/plain": [
       "      experiment      hour      date   browser\n",
       "2361         0.0  0.652174  0.000000  0.142857\n",
       "3433         0.0  0.652174  0.000000  1.000000\n",
       "6779         0.0  0.391304  0.428571  0.285714\n",
       "5074         0.0  0.304348  0.428571  0.142857\n",
       "5858         1.0  0.652174  0.714286  0.285714\n",
       "...          ...       ...       ...       ...\n",
       "2732         1.0  0.000000  0.571429  0.285714\n",
       "1977         1.0  0.347826  1.000000  0.285714\n",
       "1378         1.0  0.086957  1.000000  0.285714\n",
       "3374         0.0  0.173913  1.000000  0.142857\n",
       "2139         0.0  0.347826  0.142857  0.571429\n",
       "\n",
       "[261 rows x 4 columns]"
      ]
     },
     "execution_count": 102,
     "metadata": {},
     "output_type": "execute_result"
    }
   ],
   "source": [
    "train_x,test_x, val_x=split(platfrom_df)\n",
    "train_xx=train_x[['experiment', 'hour', 'date', 'platform_os']]\n",
    "train_xy=train_x['converted']\n",
    "val_xx=val_x[['experiment', 'hour', 'date', 'platform_os']]\n",
    "val_xy=val_x['converted']\n",
    "test_xx=test_x[['experiment', 'hour', 'date', 'platform_os']]\n",
    "test_xy= test_x['converted']\n",
    "\n",
    "train_y,test_y,val_y=split(browser_df)\n",
    "train_yx=train_y[['experiment', 'hour', 'date', 'browser']]\n",
    "train_yy=train_y['converted']\n",
    "val_yx=val_y[['experiment', 'hour', 'date', 'browser']]\n",
    "val_yy=val_y['converted']\n",
    "test_yx=test_y[['experiment', 'hour', 'date', 'browser']]\n",
    "test_yy= test_y['converted']\n",
    "test_yx\n",
    "#test_y"
   ]
  },
  {
   "cell_type": "markdown",
   "id": "intimate-biodiversity",
   "metadata": {},
   "source": [
    "## Model Training Using logistic regression Model for platform and browser"
   ]
  },
  {
   "cell_type": "markdown",
   "id": "blessed-worthy",
   "metadata": {},
   "source": [
    "###  Model Training Using logistic regression Model for platform "
   ]
  },
  {
   "cell_type": "code",
   "execution_count": 16,
   "id": "german-palestinian",
   "metadata": {},
   "outputs": [],
   "source": [
    "from sklearn.model_selection import cross_val_score\n",
    "k_fold = KFold(n_splits=5)"
   ]
  },
  {
   "cell_type": "code",
   "execution_count": 17,
   "id": "artistic-nickname",
   "metadata": {},
   "outputs": [
    {
     "name": "stdout",
     "output_type": "stream",
     "text": [
      "0.5310344827586208\n"
     ]
    }
   ],
   "source": [
    "\n",
    "#train logistic regression model\n",
    "log_model = LogisticRegression()\n",
    "log_model.fit(train_xx,train_xy)\n",
    "#calculate average accuracy score \n",
    "print(cross_val_score(log_model, train_xx, train_xy,cv=k_fold, scoring= 'accuracy').mean())"
   ]
  },
  {
   "cell_type": "code",
   "execution_count": 18,
   "id": "behind-compound",
   "metadata": {},
   "outputs": [
    {
     "data": {
      "text/plain": [
       "0.6847350163673901"
      ]
     },
     "execution_count": 18,
     "metadata": {},
     "output_type": "execute_result"
    }
   ],
   "source": [
    "#import log_loss\n",
    "from sklearn.metrics import log_loss\n",
    "model = log_model\n",
    "# predict probabilities\n",
    "probs = model.predict_proba(val_xx)\n",
    "# keep the predictions for class 1 only\n",
    "probs = probs[:, 1]\n",
    "# calculate log loss using validation data\n",
    "loss = log_loss(val_xy, probs)\n",
    "loss"
   ]
  },
  {
   "cell_type": "code",
   "execution_count": 19,
   "id": "ordinary-compact",
   "metadata": {},
   "outputs": [
    {
     "data": {
      "image/png": "[encoded data removed]",
      "text/plain": [
       "<Figure size 432x288 with 1 Axes>"
      ]
     },
     "metadata": {
      "needs_background": "light"
     },
     "output_type": "display_data"
    }
   ],
   "source": [
    "y_pred_proba = log_model.predict_proba(val_xx)[::,1]\n",
    "fpr, tpr, _ = metrics.roc_curve(val_xy,  y_pred_proba)\n",
    "auc = metrics.roc_auc_score(val_xy, y_pred_proba)\n",
    "plt.plot(fpr,tpr,label=\"data 1, auc=\"+str(auc))\n",
    "plt.legend(loc=4)\n",
    "plt.show()"
   ]
  },
  {
   "cell_type": "code",
   "execution_count": null,
   "id": "brave-affairs",
   "metadata": {},
   "outputs": [],
   "source": []
  },
  {
   "cell_type": "code",
   "execution_count": 43,
   "id": "activated-president",
   "metadata": {},
   "outputs": [
    {
     "data": {
      "text/html": [
       "<div>\n",
       "<style scoped>\n",
       "    .dataframe tbody tr th:only-of-type {\n",
       "        vertical-align: middle;\n",
       "    }\n",
       "\n",
       "    .dataframe tbody tr th {\n",
       "        vertical-align: top;\n",
       "    }\n",
       "\n",
       "    .dataframe thead th {\n",
       "        text-align: right;\n",
       "    }\n",
       "</style>\n",
       "<table border=\"1\" class=\"dataframe\">\n",
       "  <thead>\n",
       "    <tr style=\"text-align: right;\">\n",
       "      <th></th>\n",
       "      <th>experiment</th>\n",
       "      <th>converted</th>\n",
       "    </tr>\n",
       "  </thead>\n",
       "  <tbody>\n",
       "    <tr>\n",
       "      <th>2731</th>\n",
       "      <td>1.0</td>\n",
       "      <td>0.0</td>\n",
       "    </tr>\n",
       "    <tr>\n",
       "      <th>3036</th>\n",
       "      <td>0.0</td>\n",
       "      <td>0.0</td>\n",
       "    </tr>\n",
       "    <tr>\n",
       "      <th>4881</th>\n",
       "      <td>1.0</td>\n",
       "      <td>0.0</td>\n",
       "    </tr>\n",
       "    <tr>\n",
       "      <th>5354</th>\n",
       "      <td>0.0</td>\n",
       "      <td>0.0</td>\n",
       "    </tr>\n",
       "    <tr>\n",
       "      <th>1845</th>\n",
       "      <td>0.0</td>\n",
       "      <td>0.0</td>\n",
       "    </tr>\n",
       "  </tbody>\n",
       "</table>\n",
       "</div>"
      ],
      "text/plain": [
       "      experiment  converted\n",
       "2731         1.0        0.0\n",
       "3036         0.0        0.0\n",
       "4881         1.0        0.0\n",
       "5354         0.0        0.0\n",
       "1845         0.0        0.0"
      ]
     },
     "execution_count": 43,
     "metadata": {},
     "output_type": "execute_result"
    }
   ],
   "source": [
    "#predict values using testing data\n",
    "prediction = log_model.predict(test_xx)\n",
    "predicted_values = pd.DataFrame({\n",
    "           \"experiment\" : test_x['experiment'],\n",
    "           \"converted\" : prediction})\n",
    "predicted_values.head()"
   ]
  },
  {
   "cell_type": "code",
   "execution_count": 44,
   "id": "conscious-semiconductor",
   "metadata": {},
   "outputs": [
    {
     "data": {
      "text/plain": [
       "array([[123,  14],\n",
       "       [106,  18]])"
      ]
     },
     "execution_count": 44,
     "metadata": {},
     "output_type": "execute_result"
    }
   ],
   "source": [
    "#confusion matris\n",
    "from sklearn import metrics\n",
    "cnf_matrix = metrics.confusion_matrix(test_xy, prediction)\n",
    "cnf_matrix"
   ]
  },
  {
   "cell_type": "code",
   "execution_count": 45,
   "id": "experienced-mission",
   "metadata": {},
   "outputs": [
    {
     "name": "stdout",
     "output_type": "stream",
     "text": [
      "0.5218390804597701\n"
     ]
    }
   ],
   "source": [
    "#train decision tree model\n",
    "dt = DecisionTreeClassifier()\n",
    "dt.fit(train_xx,train_xy)\n",
    "print(cross_val_score(dt, train_xx,train_xy,cv= 5, scoring= 'accuracy').mean())"
   ]
  },
  {
   "cell_type": "code",
   "execution_count": 48,
   "id": "stylish-graduate",
   "metadata": {},
   "outputs": [
    {
     "data": {
      "text/plain": [
       "6.675844687546159"
      ]
     },
     "execution_count": 48,
     "metadata": {},
     "output_type": "execute_result"
    }
   ],
   "source": [
    "from sklearn.metrics import log_loss\n",
    "model = dt\n",
    "# predict probabilities\n",
    "probs = model.predict_proba(test_xx)\n",
    "# keep the predictions for class 1 only\n",
    "probs = probs[:, 1]\n",
    "# calculate log loss\n",
    "loss = log_loss(test_xy, probs)\n",
    "loss"
   ]
  },
  {
   "cell_type": "code",
   "execution_count": 50,
   "id": "boolean-slope",
   "metadata": {},
   "outputs": [
    {
     "data": {
      "image/png": "[encoded data removed]",
      "text/plain": [
       "<Figure size 432x288 with 1 Axes>"
      ]
     },
     "metadata": {
      "needs_background": "light"
     },
     "output_type": "display_data"
    }
   ],
   "source": [
    "y_pred_proba = dt.predict_proba(test_xx)[::,1]\n",
    "fpr, tpr, _ = metrics.roc_curve(test_xy,  y_pred_proba)\n",
    "auc = metrics.roc_auc_score(test_xy, y_pred_proba)\n",
    "plt.plot(fpr,tpr,label=\"data 1, auc=\"+str(auc))\n",
    "plt.legend(loc=4)\n",
    "plt.show()"
   ]
  },
  {
   "cell_type": "code",
   "execution_count": 52,
   "id": "super-cable",
   "metadata": {},
   "outputs": [
    {
     "data": {
      "image/png": "[encoded data removed]",
      "text/plain": [
       "<Figure size 432x288 with 1 Axes>"
      ]
     },
     "metadata": {
      "needs_background": "light"
     },
     "output_type": "display_data"
    }
   ],
   "source": [
    "#feature importance\n",
    "feat_importance = pd.Series(dt.feature_importances_, index=train_xx.columns)\n",
    "feat_importance.plot(kind='barh')\n",
    "plt.show()"
   ]
  },
  {
   "cell_type": "code",
   "execution_count": 56,
   "id": "international-knitting",
   "metadata": {},
   "outputs": [
    {
     "data": {
      "text/html": [
       "<div>\n",
       "<style scoped>\n",
       "    .dataframe tbody tr th:only-of-type {\n",
       "        vertical-align: middle;\n",
       "    }\n",
       "\n",
       "    .dataframe tbody tr th {\n",
       "        vertical-align: top;\n",
       "    }\n",
       "\n",
       "    .dataframe thead th {\n",
       "        text-align: right;\n",
       "    }\n",
       "</style>\n",
       "<table border=\"1\" class=\"dataframe\">\n",
       "  <thead>\n",
       "    <tr style=\"text-align: right;\">\n",
       "      <th></th>\n",
       "      <th>experiment</th>\n",
       "      <th>yes</th>\n",
       "    </tr>\n",
       "  </thead>\n",
       "  <tbody>\n",
       "    <tr>\n",
       "      <th>2731</th>\n",
       "      <td>1.0</td>\n",
       "      <td>0.0</td>\n",
       "    </tr>\n",
       "    <tr>\n",
       "      <th>3036</th>\n",
       "      <td>0.0</td>\n",
       "      <td>0.0</td>\n",
       "    </tr>\n",
       "    <tr>\n",
       "      <th>4881</th>\n",
       "      <td>1.0</td>\n",
       "      <td>0.0</td>\n",
       "    </tr>\n",
       "    <tr>\n",
       "      <th>5354</th>\n",
       "      <td>0.0</td>\n",
       "      <td>0.0</td>\n",
       "    </tr>\n",
       "    <tr>\n",
       "      <th>1845</th>\n",
       "      <td>0.0</td>\n",
       "      <td>0.0</td>\n",
       "    </tr>\n",
       "  </tbody>\n",
       "</table>\n",
       "</div>"
      ],
      "text/plain": [
       "      experiment  yes\n",
       "2731         1.0  0.0\n",
       "3036         0.0  0.0\n",
       "4881         1.0  0.0\n",
       "5354         0.0  0.0\n",
       "1845         0.0  0.0"
      ]
     },
     "execution_count": 56,
     "metadata": {},
     "output_type": "execute_result"
    }
   ],
   "source": [
    "#predict using testing data\n",
    "prediction = dt.predict(test_xx)\n",
    "predicted_values = pd.DataFrame({\n",
    "           \"experiment\" : test_x['experiment'],\n",
    "           \"yes\" : prediction})\n",
    "predicted_values.head()"
   ]
  },
  {
   "cell_type": "code",
   "execution_count": 57,
   "id": "satisfactory-table",
   "metadata": {},
   "outputs": [
    {
     "data": {
      "text/plain": [
       "array([[100,  37],\n",
       "       [ 88,  36]])"
      ]
     },
     "execution_count": 57,
     "metadata": {},
     "output_type": "execute_result"
    }
   ],
   "source": [
    "#confusion matrix\n",
    "from sklearn import metrics\n",
    "cnf_matrix = metrics.confusion_matrix(test_xy, prediction)\n",
    "cnf_matrix"
   ]
  },
  {
   "cell_type": "code",
   "execution_count": null,
   "id": "contrary-front",
   "metadata": {},
   "outputs": [],
   "source": [
    "#train XGBoost \n",
    "data_dmatrix = xgb.DMatrix(data=train_xx,label=train_xy)\n",
    "xg_reg = xgb.XGBClassifier()\n",
    "xg_reg.fit(train_xx,train_xy)\n",
    "#calculate average accuracy \n",
    "print(cross_val_score(xg_reg, train_xx, train_xy,cv= 5, scoring= 'accuracy').mean())\n"
   ]
  },
  {
   "cell_type": "code",
   "execution_count": 66,
   "id": "suburban-honey",
   "metadata": {},
   "outputs": [
    {
     "data": {
      "text/plain": [
       "0.818092562301063"
      ]
     },
     "execution_count": 66,
     "metadata": {},
     "output_type": "execute_result"
    }
   ],
   "source": [
    "from sklearn.metrics import log_loss\n",
    "model = xg_reg\n",
    "# predict probabilities\n",
    "probs = model.predict_proba(test_xx)\n",
    "# keep the predictions for class 1 only\n",
    "probs = probs[:, 1]\n",
    "# calculate log loss\n",
    "loss = log_loss(test_xy, probs)\n",
    "loss"
   ]
  },
  {
   "cell_type": "code",
   "execution_count": 68,
   "id": "tested-advantage",
   "metadata": {},
   "outputs": [
    {
     "data": {
      "image/png": "[encoded data removed]",
      "text/plain": [
       "<Figure size 432x288 with 1 Axes>"
      ]
     },
     "metadata": {
      "needs_background": "light"
     },
     "output_type": "display_data"
    }
   ],
   "source": [
    "y_pred_proba = xg_reg.predict_proba(test_xx)[::,1]\n",
    "fpr, tpr, _ = metrics.roc_curve(test_xy,  y_pred_proba)\n",
    "auc = metrics.roc_auc_score(test_xy, y_pred_proba)\n",
    "plt.plot(fpr,tpr,label=\"data 1, auc=\"+str(auc))\n",
    "plt.legend(loc=4)\n",
    "plt.show()"
   ]
  },
  {
   "cell_type": "code",
   "execution_count": 70,
   "id": "worthy-computer",
   "metadata": {},
   "outputs": [
    {
     "data": {
      "image/png": "[encoded data removed]",
      "text/plain": [
       "<Figure size 432x288 with 1 Axes>"
      ]
     },
     "metadata": {
      "needs_background": "light"
     },
     "output_type": "display_data"
    }
   ],
   "source": [
    "#feature importance for XGBoost model\n",
    "feat_importance = pd.Series(xg_reg.feature_importances_, index=train_xx.columns)\n",
    "feat_importance.plot(kind='barh')\n",
    "plt.show()"
   ]
  },
  {
   "cell_type": "code",
   "execution_count": 73,
   "id": "stock-pressing",
   "metadata": {},
   "outputs": [
    {
     "data": {
      "text/html": [
       "<div>\n",
       "<style scoped>\n",
       "    .dataframe tbody tr th:only-of-type {\n",
       "        vertical-align: middle;\n",
       "    }\n",
       "\n",
       "    .dataframe tbody tr th {\n",
       "        vertical-align: top;\n",
       "    }\n",
       "\n",
       "    .dataframe thead th {\n",
       "        text-align: right;\n",
       "    }\n",
       "</style>\n",
       "<table border=\"1\" class=\"dataframe\">\n",
       "  <thead>\n",
       "    <tr style=\"text-align: right;\">\n",
       "      <th></th>\n",
       "      <th>experiment</th>\n",
       "      <th>converted</th>\n",
       "    </tr>\n",
       "  </thead>\n",
       "  <tbody>\n",
       "    <tr>\n",
       "      <th>2731</th>\n",
       "      <td>1.0</td>\n",
       "      <td>0.0</td>\n",
       "    </tr>\n",
       "    <tr>\n",
       "      <th>3036</th>\n",
       "      <td>0.0</td>\n",
       "      <td>0.0</td>\n",
       "    </tr>\n",
       "    <tr>\n",
       "      <th>4881</th>\n",
       "      <td>1.0</td>\n",
       "      <td>1.0</td>\n",
       "    </tr>\n",
       "    <tr>\n",
       "      <th>5354</th>\n",
       "      <td>0.0</td>\n",
       "      <td>0.0</td>\n",
       "    </tr>\n",
       "    <tr>\n",
       "      <th>1845</th>\n",
       "      <td>0.0</td>\n",
       "      <td>0.0</td>\n",
       "    </tr>\n",
       "  </tbody>\n",
       "</table>\n",
       "</div>"
      ],
      "text/plain": [
       "      experiment  converted\n",
       "2731         1.0        0.0\n",
       "3036         0.0        0.0\n",
       "4881         1.0        1.0\n",
       "5354         0.0        0.0\n",
       "1845         0.0        0.0"
      ]
     },
     "execution_count": 73,
     "metadata": {},
     "output_type": "execute_result"
    }
   ],
   "source": [
    "#predict using testind data\n",
    "prediction = xg_reg.predict(test_xx)\n",
    "submission = pd.DataFrame({\n",
    "    \"experiment\" : test_x['experiment'],\n",
    "    \"converted\" : prediction\n",
    "})\n",
    "submission.head()"
   ]
  },
  {
   "cell_type": "code",
   "execution_count": 74,
   "id": "close-quest",
   "metadata": {},
   "outputs": [
    {
     "data": {
      "text/plain": [
       "array([[85, 52],\n",
       "       [77, 47]])"
      ]
     },
     "execution_count": 74,
     "metadata": {},
     "output_type": "execute_result"
    }
   ],
   "source": [
    "#confusion matrix\n",
    "from sklearn import metrics\n",
    "cnf_matrix = metrics.confusion_matrix(test_xy, prediction)\n",
    "cnf_matrix"
   ]
  },
  {
   "cell_type": "markdown",
   "id": "organized-daniel",
   "metadata": {},
   "source": [
    "### Model Training Using logistic regression Model for browser"
   ]
  },
  {
   "cell_type": "code",
   "execution_count": 76,
   "id": "characteristic-respondent",
   "metadata": {},
   "outputs": [
    {
     "name": "stdout",
     "output_type": "stream",
     "text": [
      "0.5172413793103449\n"
     ]
    }
   ],
   "source": [
    "#train logistic regression model\n",
    "log_model_b = LogisticRegression()\n",
    "log_model_b.fit(train_yx,train_yy)\n",
    "#calculate average accuracy score \n",
    "print(cross_val_score(log_model_b, train_xx, train_xy,cv=k_fold, scoring= 'accuracy').mean())"
   ]
  },
  {
   "cell_type": "code",
   "execution_count": 116,
   "id": "forward-document",
   "metadata": {},
   "outputs": [
    {
     "data": {
      "text/plain": [
       "0.6999731375293307"
      ]
     },
     "execution_count": 116,
     "metadata": {},
     "output_type": "execute_result"
    }
   ],
   "source": [
    "#import log_loss\n",
    "from sklearn.metrics import log_loss\n",
    "model = log_model\n",
    "# predict probabilities\n",
    "probs_b = model.predict_proba(val_yx)\n",
    "# keep the predictions for class 1 only\n",
    "probs_b = probs_b[:, 1]\n",
    "# calculate log loss using validation data\n",
    "loss_b = log_loss(val_yy, probs_b)\n",
    "loss_b"
   ]
  },
  {
   "cell_type": "code",
   "execution_count": 87,
   "id": "artificial-sequence",
   "metadata": {},
   "outputs": [
    {
     "data": {
      "image/png": "[encoded data removed]",
      "text/plain": [
       "<Figure size 432x288 with 1 Axes>"
      ]
     },
     "metadata": {
      "needs_background": "light"
     },
     "output_type": "display_data"
    }
   ],
   "source": [
    "B_pred_proba = log_model.predict_proba(val_yx)[::,1]\n",
    "fpr_b, tpr_b, _ = metrics.roc_curve(val_yy,  B_pred_proba)\n",
    "auc_b = metrics.roc_auc_score(val_yy, B_pred_proba)\n",
    "plt.plot(fpr_b,tpr_b,label=\"data 1, auc_b=\"+str(auc_b))\n",
    "plt.legend(loc=4)\n",
    "plt.show()"
   ]
  },
  {
   "cell_type": "code",
   "execution_count": 88,
   "id": "institutional-oasis",
   "metadata": {},
   "outputs": [
    {
     "data": {
      "text/html": [
       "<div>\n",
       "<style scoped>\n",
       "    .dataframe tbody tr th:only-of-type {\n",
       "        vertical-align: middle;\n",
       "    }\n",
       "\n",
       "    .dataframe tbody tr th {\n",
       "        vertical-align: top;\n",
       "    }\n",
       "\n",
       "    .dataframe thead th {\n",
       "        text-align: right;\n",
       "    }\n",
       "</style>\n",
       "<table border=\"1\" class=\"dataframe\">\n",
       "  <thead>\n",
       "    <tr style=\"text-align: right;\">\n",
       "      <th></th>\n",
       "      <th>experiment</th>\n",
       "      <th>converted</th>\n",
       "    </tr>\n",
       "  </thead>\n",
       "  <tbody>\n",
       "    <tr>\n",
       "      <th>7626</th>\n",
       "      <td>0.0</td>\n",
       "      <td>0.0</td>\n",
       "    </tr>\n",
       "    <tr>\n",
       "      <th>2904</th>\n",
       "      <td>1.0</td>\n",
       "      <td>0.0</td>\n",
       "    </tr>\n",
       "    <tr>\n",
       "      <th>6289</th>\n",
       "      <td>1.0</td>\n",
       "      <td>1.0</td>\n",
       "    </tr>\n",
       "    <tr>\n",
       "      <th>5547</th>\n",
       "      <td>1.0</td>\n",
       "      <td>0.0</td>\n",
       "    </tr>\n",
       "    <tr>\n",
       "      <th>3337</th>\n",
       "      <td>1.0</td>\n",
       "      <td>0.0</td>\n",
       "    </tr>\n",
       "  </tbody>\n",
       "</table>\n",
       "</div>"
      ],
      "text/plain": [
       "      experiment  converted\n",
       "7626         0.0        0.0\n",
       "2904         1.0        0.0\n",
       "6289         1.0        1.0\n",
       "5547         1.0        0.0\n",
       "3337         1.0        0.0"
      ]
     },
     "execution_count": 88,
     "metadata": {},
     "output_type": "execute_result"
    }
   ],
   "source": [
    "#predict values using testing data\n",
    "prediction_b = log_model.predict(test_yx)\n",
    "predicted_values_b = pd.DataFrame({\n",
    "           \"experiment\" : test_y['experiment'],\n",
    "           \"converted\" : prediction_b})\n",
    "predicted_values_b.head()"
   ]
  },
  {
   "cell_type": "code",
   "execution_count": 89,
   "id": "grand-context",
   "metadata": {},
   "outputs": [
    {
     "data": {
      "text/plain": [
       "array([[138,   1],\n",
       "       [121,   1]])"
      ]
     },
     "execution_count": 89,
     "metadata": {},
     "output_type": "execute_result"
    }
   ],
   "source": [
    "#confusion matris\n",
    "from sklearn import metrics\n",
    "cnf_matrix = metrics.confusion_matrix(test_yy, prediction_b)\n",
    "cnf_matrix"
   ]
  },
  {
   "cell_type": "code",
   "execution_count": 90,
   "id": "persistent-keyboard",
   "metadata": {},
   "outputs": [
    {
     "name": "stdout",
     "output_type": "stream",
     "text": [
      "0.5183908045977011\n"
     ]
    }
   ],
   "source": [
    "#train decision tree model\n",
    "dt_b = DecisionTreeClassifier()\n",
    "dt_b.fit(train_yx,train_yy)\n",
    "print(cross_val_score(dt_b, train_yx,train_yy,cv= 5, scoring= 'accuracy').mean())"
   ]
  },
  {
   "cell_type": "code",
   "execution_count": 91,
   "id": "attractive-manchester",
   "metadata": {},
   "outputs": [
    {
     "data": {
      "text/plain": [
       "10.89751874208036"
      ]
     },
     "execution_count": 91,
     "metadata": {},
     "output_type": "execute_result"
    }
   ],
   "source": [
    "from sklearn.metrics import log_loss\n",
    "model = dt_b\n",
    "# predict probabilities\n",
    "probs = model.predict_proba(test_yx)\n",
    "# keep the predictions for class 1 only\n",
    "probs = probs[:, 1]\n",
    "# calculate log loss\n",
    "loss_b = log_loss(test_yy, probs)\n",
    "loss_b"
   ]
  },
  {
   "cell_type": "code",
   "execution_count": 92,
   "id": "greatest-brunswick",
   "metadata": {},
   "outputs": [
    {
     "data": {
      "image/png": "[encoded data removed]",
      "text/plain": [
       "<Figure size 432x288 with 1 Axes>"
      ]
     },
     "metadata": {
      "needs_background": "light"
     },
     "output_type": "display_data"
    }
   ],
   "source": [
    "B_pred_proba = dt_b.predict_proba(test_yx)[::,1]\n",
    "fpr_b, tpr_b, _ = metrics.roc_curve(test_yy,  B_pred_proba)\n",
    "auc_b = metrics.roc_auc_score(test_yy, B_pred_proba)\n",
    "plt.plot(fpr_b,tpr_b,label=\"data 1, auc_b=\"+str(auc_b))\n",
    "plt.legend(loc=4)\n",
    "plt.show()"
   ]
  },
  {
   "cell_type": "code",
   "execution_count": 109,
   "id": "approximate-modem",
   "metadata": {},
   "outputs": [
    {
     "data": {
      "image/png": "[encoded data removed]",
      "text/plain": [
       "<Figure size 432x288 with 1 Axes>"
      ]
     },
     "metadata": {
      "needs_background": "light"
     },
     "output_type": "display_data"
    }
   ],
   "source": [
    "#feature importance\n",
    "feature_importance = pd.Series(dt.feature_importances_, index=train_yx.columns)\n",
    "feature_importance.plot(kind='barh')\n",
    "plt.show()"
   ]
  },
  {
   "cell_type": "code",
   "execution_count": 108,
   "id": "premium-january",
   "metadata": {},
   "outputs": [
    {
     "data": {
      "text/html": [
       "<div>\n",
       "<style scoped>\n",
       "    .dataframe tbody tr th:only-of-type {\n",
       "        vertical-align: middle;\n",
       "    }\n",
       "\n",
       "    .dataframe tbody tr th {\n",
       "        vertical-align: top;\n",
       "    }\n",
       "\n",
       "    .dataframe thead th {\n",
       "        text-align: right;\n",
       "    }\n",
       "</style>\n",
       "<table border=\"1\" class=\"dataframe\">\n",
       "  <thead>\n",
       "    <tr style=\"text-align: right;\">\n",
       "      <th></th>\n",
       "      <th>experiment</th>\n",
       "      <th>yes</th>\n",
       "    </tr>\n",
       "  </thead>\n",
       "  <tbody>\n",
       "    <tr>\n",
       "      <th>2361</th>\n",
       "      <td>0.0</td>\n",
       "      <td>0.0</td>\n",
       "    </tr>\n",
       "    <tr>\n",
       "      <th>3433</th>\n",
       "      <td>0.0</td>\n",
       "      <td>0.0</td>\n",
       "    </tr>\n",
       "    <tr>\n",
       "      <th>6779</th>\n",
       "      <td>0.0</td>\n",
       "      <td>1.0</td>\n",
       "    </tr>\n",
       "    <tr>\n",
       "      <th>5074</th>\n",
       "      <td>0.0</td>\n",
       "      <td>0.0</td>\n",
       "    </tr>\n",
       "    <tr>\n",
       "      <th>5858</th>\n",
       "      <td>1.0</td>\n",
       "      <td>0.0</td>\n",
       "    </tr>\n",
       "  </tbody>\n",
       "</table>\n",
       "</div>"
      ],
      "text/plain": [
       "      experiment  yes\n",
       "2361         0.0  0.0\n",
       "3433         0.0  0.0\n",
       "6779         0.0  1.0\n",
       "5074         0.0  0.0\n",
       "5858         1.0  0.0"
      ]
     },
     "execution_count": 108,
     "metadata": {},
     "output_type": "execute_result"
    }
   ],
   "source": [
    "#predict using testing data\n",
    "prediction_b = dt_b.predict(test_yx)\n",
    "predicted_values_b = pd.DataFrame({\n",
    "           \"experiment\" : test_y['experiment'],\n",
    "           \"yes\" : prediction})\n",
    "predicted_values_b.head()"
   ]
  },
  {
   "cell_type": "code",
   "execution_count": 113,
   "id": "southwest-header",
   "metadata": {},
   "outputs": [
    {
     "data": {
      "text/plain": [
       "array([[111,  19],\n",
       "       [ 58,  73]])"
      ]
     },
     "execution_count": 113,
     "metadata": {},
     "output_type": "execute_result"
    }
   ],
   "source": [
    "#confusion matrix\n",
    "from sklearn import metrics\n",
    "cnf_matrix_b = metrics.confusion_matrix(test_yy, prediction_b)\n",
    "cnf_matrix_b"
   ]
  },
  {
   "cell_type": "code",
   "execution_count": 115,
   "id": "satisfactory-metro",
   "metadata": {},
   "outputs": [
    {
     "name": "stdout",
     "output_type": "stream",
     "text": [
      "[12:03:57] WARNING: /tmp/build/80754af9/xgboost-split_1619724447847/work/src/learner.cc:1061: Starting in XGBoost 1.3.0, the default evaluation metric used with the objective 'binary:logistic' was changed from 'error' to 'logloss'. Explicitly set eval_metric if you'd like to restore the old behavior.\n",
      "[12:03:57] WARNING: /tmp/build/80754af9/xgboost-split_1619724447847/work/src/learner.cc:1061: Starting in XGBoost 1.3.0, the default evaluation metric used with the objective 'binary:logistic' was changed from 'error' to 'logloss'. Explicitly set eval_metric if you'd like to restore the old behavior.\n",
      "[12:03:57] WARNING: /tmp/build/80754af9/xgboost-split_1619724447847/work/src/learner.cc:1061: Starting in XGBoost 1.3.0, the default evaluation metric used with the objective 'binary:logistic' was changed from 'error' to 'logloss'. Explicitly set eval_metric if you'd like to restore the old behavior.\n",
      "[12:03:57] WARNING: /tmp/build/80754af9/xgboost-split_1619724447847/work/src/learner.cc:1061: Starting in XGBoost 1.3.0, the default evaluation metric used with the objective 'binary:logistic' was changed from 'error' to 'logloss'. Explicitly set eval_metric if you'd like to restore the old behavior.\n",
      "[12:03:57] WARNING: /tmp/build/80754af9/xgboost-split_1619724447847/work/src/learner.cc:1061: Starting in XGBoost 1.3.0, the default evaluation metric used with the objective 'binary:logistic' was changed from 'error' to 'logloss'. Explicitly set eval_metric if you'd like to restore the old behavior.\n",
      "[12:03:57] WARNING: /tmp/build/80754af9/xgboost-split_1619724447847/work/src/learner.cc:1061: Starting in XGBoost 1.3.0, the default evaluation metric used with the objective 'binary:logistic' was changed from 'error' to 'logloss'. Explicitly set eval_metric if you'd like to restore the old behavior.\n",
      "0.5183908045977011\n"
     ]
    }
   ],
   "source": [
    "#train XGBoost \n",
    "data_dmatrix_b = xgb.DMatrix(data=train_yx,label=train_yy)\n",
    "xg_reg_b = xgb.XGBClassifier()\n",
    "xg_reg_b.fit(train_yx,train_yy)\n",
    "#calculate average accuracy \n",
    "print(cross_val_score(xg_reg_b, train_yx, train_yy,cv= 5, scoring= 'accuracy').mean())\n"
   ]
  },
  {
   "cell_type": "code",
   "execution_count": 117,
   "id": "liberal-short",
   "metadata": {},
   "outputs": [
    {
     "data": {
      "text/plain": [
       "0.9239384378422537"
      ]
     },
     "execution_count": 117,
     "metadata": {},
     "output_type": "execute_result"
    }
   ],
   "source": [
    "from sklearn.metrics import log_loss\n",
    "model = xg_reg_b\n",
    "# predict probabilities\n",
    "probs_b = model.predict_proba(test_yx)\n",
    "# keep the predictions for class 1 only\n",
    "probs_b = probs_b[:, 1]\n",
    "# calculate log loss\n",
    "loss_b = log_loss(test_yy, probs_b)\n",
    "loss_b"
   ]
  },
  {
   "cell_type": "code",
   "execution_count": 118,
   "id": "covered-stream",
   "metadata": {},
   "outputs": [
    {
     "data": {
      "image/png": "[encoded data removed]",
      "text/plain": [
       "<Figure size 432x288 with 1 Axes>"
      ]
     },
     "metadata": {
      "needs_background": "light"
     },
     "output_type": "display_data"
    }
   ],
   "source": [
    "B_pred_proba = xg_reg_b.predict_proba(test_yx)[::,1]\n",
    "fpr, tpr, _ = metrics.roc_curve(test_yy,  B_pred_proba)\n",
    "auc = metrics.roc_auc_score(test_yy, B_pred_proba)\n",
    "plt.plot(fpr,tpr,label=\"data 1, auc=\"+str(auc))\n",
    "plt.legend(loc=4)\n",
    "plt.show()"
   ]
  },
  {
   "cell_type": "code",
   "execution_count": 119,
   "id": "better-sunset",
   "metadata": {},
   "outputs": [
    {
     "data": {
      "image/png": "[encoded data removed]",
      "text/plain": [
       "<Figure size 432x288 with 1 Axes>"
      ]
     },
     "metadata": {
      "needs_background": "light"
     },
     "output_type": "display_data"
    }
   ],
   "source": [
    "#feature importance for XGBoost model\n",
    "feat_importance = pd.Series(xg_reg_b.feature_importances_, index=train_yx.columns)\n",
    "feat_importance.plot(kind='barh')\n",
    "plt.show()"
   ]
  },
  {
   "cell_type": "code",
   "execution_count": 121,
   "id": "controlling-uganda",
   "metadata": {},
   "outputs": [
    {
     "data": {
      "text/html": [
       "<div>\n",
       "<style scoped>\n",
       "    .dataframe tbody tr th:only-of-type {\n",
       "        vertical-align: middle;\n",
       "    }\n",
       "\n",
       "    .dataframe tbody tr th {\n",
       "        vertical-align: top;\n",
       "    }\n",
       "\n",
       "    .dataframe thead th {\n",
       "        text-align: right;\n",
       "    }\n",
       "</style>\n",
       "<table border=\"1\" class=\"dataframe\">\n",
       "  <thead>\n",
       "    <tr style=\"text-align: right;\">\n",
       "      <th></th>\n",
       "      <th>experiment</th>\n",
       "      <th>converted</th>\n",
       "    </tr>\n",
       "  </thead>\n",
       "  <tbody>\n",
       "    <tr>\n",
       "      <th>2361</th>\n",
       "      <td>0.0</td>\n",
       "      <td>0.0</td>\n",
       "    </tr>\n",
       "    <tr>\n",
       "      <th>3433</th>\n",
       "      <td>0.0</td>\n",
       "      <td>1.0</td>\n",
       "    </tr>\n",
       "    <tr>\n",
       "      <th>6779</th>\n",
       "      <td>0.0</td>\n",
       "      <td>1.0</td>\n",
       "    </tr>\n",
       "    <tr>\n",
       "      <th>5074</th>\n",
       "      <td>0.0</td>\n",
       "      <td>1.0</td>\n",
       "    </tr>\n",
       "    <tr>\n",
       "      <th>5858</th>\n",
       "      <td>1.0</td>\n",
       "      <td>1.0</td>\n",
       "    </tr>\n",
       "  </tbody>\n",
       "</table>\n",
       "</div>"
      ],
      "text/plain": [
       "      experiment  converted\n",
       "2361         0.0        0.0\n",
       "3433         0.0        1.0\n",
       "6779         0.0        1.0\n",
       "5074         0.0        1.0\n",
       "5858         1.0        1.0"
      ]
     },
     "execution_count": 121,
     "metadata": {},
     "output_type": "execute_result"
    }
   ],
   "source": [
    "#predict using testind data\n",
    "prediction_b = xg_reg_b.predict(test_yx)\n",
    "submission_b = pd.DataFrame({\n",
    "    \"experiment\" : test_y['experiment'],\n",
    "    \"converted\" : prediction\n",
    "})\n",
    "submission_b.head()"
   ]
  },
  {
   "cell_type": "code",
   "execution_count": 122,
   "id": "intense-composition",
   "metadata": {},
   "outputs": [
    {
     "data": {
      "text/plain": [
       "array([[71, 59],\n",
       "       [73, 58]])"
      ]
     },
     "execution_count": 122,
     "metadata": {},
     "output_type": "execute_result"
    }
   ],
   "source": [
    "#confusion matrix\n",
    "from sklearn import metrics\n",
    "cnf_matrix = metrics.confusion_matrix(test_yy, prediction)\n",
    "cnf_matrix"
   ]
  },
  {
   "cell_type": "code",
   "execution_count": null,
   "id": "illegal-redhead",
   "metadata": {},
   "outputs": [],
   "source": []
  }
 ],
 "metadata": {
  "kernelspec": {
   "display_name": "Python 3",
   "language": "python",
   "name": "python3"
  },
  "language_info": {
   "codemirror_mode": {
    "name": "ipython",
    "version": 3
   },
   "file_extension": ".py",
   "mimetype": "text/x-python",
   "name": "python",
   "nbconvert_exporter": "python",
   "pygments_lexer": "ipython3",
   "version": "3.8.5"
  }
 },
 "nbformat": 4,
 "nbformat_minor": 5
}
